{
 "cells": [
  {
   "cell_type": "markdown",
   "metadata": {},
   "source": [
    "link for the data\n",
    "https://www.kaggle.com/datasets/berkayalan/paris-2024-olympics-medals"
   ]
  },
  {
   "cell_type": "markdown",
   "metadata": {},
   "source": [
    "importing comma separated values (csv)"
   ]
  },
  {
   "cell_type": "code",
   "execution_count": 26,
   "metadata": {},
   "outputs": [
    {
     "name": "stdout",
     "output_type": "stream",
     "text": [
      "['Rank', 'Country', 'Country Code', 'Gold', 'Silver', 'Bronze', 'Total']\n",
      "['1', 'United States', 'US', '40', '44', '42', '126']\n",
      "['2', 'China', 'CHN', '40', '27', '24', '91']\n",
      "['3', 'Japan', 'JPN', '20', '12', '13', '45']\n",
      "['4', 'Australia', 'AUS', '18', '19', '16', '53']\n",
      "['5', 'France', 'FRA', '16', '26', '22', '64']\n",
      "['6', 'Netherlands', 'NED', '15', '7', '12', '34']\n",
      "['7', 'Great Britain', 'GBG', '14', '22', '29', '65']\n",
      "['8', 'South Korea', 'KOR', '13', '9', '10', '32']\n",
      "['9', 'Italy', 'ITA', '12', '13', '15', '40']\n",
      "['10', 'Germany', 'GER', '12', '13', '8', '33']\n",
      "['11', 'New Zealand', 'NZ', '10', '7', '3', '20']\n",
      "['12', 'Canada', 'CAN', '9', '7', '11', '27']\n",
      "['13', 'Uzbekistan', 'UZB', '8', '2', '3', '13']\n",
      "['14', 'Hungary', 'HUN', '6', '7', '6', '19']\n",
      "['15', 'Spain', 'SPA', '5', '4', '9', '18']\n",
      "['16', 'Sweden', 'SWE', '4', '4', '3', '11']\n",
      "['17', 'Kenya', 'KEN', '4', '2', '5', '11']\n",
      "['18', 'Norway', 'NOR', '4', '1', '3', '8']\n",
      "['19', 'Ireland', 'IRE', '4', '0', '3', '7']\n",
      "['20', 'Brazil', 'BRZ', '3', '7', '10', '20']\n",
      "['21', 'Iran', 'IRN', '3', '6', '3', '12']\n",
      "['22', 'Ukraine', 'UKR', '3', '5', '4', '12']\n",
      "['23', 'Romania', 'ROM', '3', '4', '2', '9']\n",
      "['24', 'Georgia', 'GEO', '3', '3', '1', '7']\n",
      "['25', 'Belgium', 'BEL', '3', '1', '6', '10']\n",
      "['26', 'Bulgaria', 'BUL', '3', '1', '3', '7']\n",
      "['27', 'Serbia', 'SER', '3', '1', '1', '5']\n",
      "['28', 'Czech Republic', 'CZE', '3', '0', '2', '5']\n",
      "['29', 'Denmark', 'DEN', '2', '2', '5', '9']\n",
      "['30', 'Azerbaijan', 'AZE', '2', '2', '3', '7']\n",
      "['30', 'Croatia', 'CRO', '2', '2', '3', '7']\n",
      "['32', 'Cuba', 'CUB', '2', '1', '6', '9']\n",
      "['33', 'Bahrain', 'BHR', '2', '1', '1', '4']\n",
      "['34', 'Slovenia', 'SLO', '2', '1', '0', '3']\n",
      "['35', 'Chinese Taipei', 'TPE', '2', '0', '5', '7']\n",
      "['36', 'Austria', 'AUT', '2', '0', '3', '5']\n",
      "['37', 'Hong Kong', 'HK', '2', '0', '2', '4']\n",
      "['37', 'Philippines', 'PHI', '2', '0', '2', '4']\n",
      "['39', 'Algeria', 'ALG', '2', '0', '1', '3']\n",
      "['39', 'Indonesia', 'IDN', '2', '0', '1', '3']\n",
      "['41', 'Israel', 'ISR', '1', '5', '1', '7']\n",
      "['42', 'Poland', 'POL', '1', '4', '5', '10']\n",
      "['43', 'Kazakhstan', 'KAZ', '1', '3', '3', '7']\n",
      "['44', 'Jamaica', 'JAM', '1', '3', '2', '6']\n",
      "['44', 'South Africa', 'SA', '1', '3', '2', '6']\n",
      "['44', 'Thailand', 'THA', '1', '3', '2', '6']\n",
      "['47', 'Ethiopia', 'ETH', '1', '3', '0', '4']\n",
      "['48', 'Switzerland', 'SWI', '1', '2', '5', '8']\n",
      "['49', 'Ecuador', 'ECU', '1', '2', '2', '5']\n",
      "['50', 'Portugal', 'POR', '1', '2', '1', '4']\n",
      "['51', 'Greece', 'GRE', '1', '1', '6', '8']\n",
      "['52', 'Argentina', 'ARG', '1', '1', '1', '3']\n",
      "['52', 'Egypt', 'EGY', '1', '1', '1', '3']\n",
      "['52', 'Tunisia', 'TUN', '1', '1', '1', '3']\n",
      "['55', 'Botswana', 'BOT', '1', '1', '0', '2']\n",
      "['55', 'Chile', 'CHI', '1', '1', '0', '2']\n",
      "['55', 'St Lucia', 'LCA', '1', '1', '0', '2']\n",
      "['55', 'Uganda', 'UGA', '1', '1', '0', '2']\n",
      "['59', 'Dominican Republic', 'DOM', '1', '0', '2', '3']\n",
      "['60', 'Guatemala', 'GUA', '1', '0', '1', '2']\n",
      "['60', 'Morocco', 'MOR', '1', '0', '1', '2']\n",
      "['62', 'Dominica', 'DMA', '1', '0', '0', '1']\n",
      "['62', 'Pakistan', 'PKN', '1', '0', '0', '1']\n",
      "['64', 'Turkey', 'TUR', '0', '3', '5', '8']\n",
      "['65', 'Mexico', 'MEX', '0', '3', '2', '5']\n",
      "['66', 'Armenia', 'ARM', '0', '3', '1', '4']\n",
      "['66', 'Colombia', 'COL', '0', '3', '1', '4']\n",
      "['68', 'North Korea', 'PRK', '0', '2', '4', '6']\n",
      "['68', 'Kyrgyzstan', 'KGZ', '0', '2', '4', '6']\n",
      "['70', 'Lithuania', 'LTU', '0', '2', '2', '4']\n",
      "['71', 'India', 'IND', '0', '1', '5', '6']\n",
      "['72', 'Moldova', 'MDA', '0', '1', '3', '4']\n",
      "['73', 'Kosovo', 'KOS', '0', '1', '1', '2']\n",
      "['74', 'Cyprus', 'CYP', '0', '1', '0', '1']\n",
      "['74', 'Fiji', 'FIJ', '0', '1', '0', '1']\n",
      "['74', 'Jordan', 'JOR', '0', '1', '0', '1']\n",
      "['74', 'Mongolia', 'MGL', '0', '1', '0', '1']\n",
      "['74', 'Panama', 'PAN', '0', '1', '0', '1']\n",
      "['79', 'Tajikistan', 'TJK', '0', '0', '3', '3']\n",
      "['80', 'Albania', 'ALB', '0', '0', '2', '2']\n",
      "['80', 'Grenada', 'GRN', '0', '0', '2', '2']\n",
      "['80', 'Malaysia', 'MAS', '0', '0', '2', '2']\n",
      "['80', 'Puerto Rico', 'PUR', '0', '0', '2', '2']\n",
      "['84', 'Cape Verde', 'CPV', '0', '0', '1', '1']\n",
      "['84', 'Ivory Coast', 'CIV', '0', '0', '1', '1']\n",
      "['84', 'Refugee Olympic Team', 'EOR', '0', '0', '1', '1']\n",
      "['84', 'Peru', 'PER', '0', '0', '1', '1']\n",
      "['84', 'Qatar', 'QAT', '0', '0', '1', '1']\n",
      "['84', 'Singapore', 'SIN', '0', '0', '1', '1']\n",
      "['84', 'Slovakia', 'SVK', '0', '0', '1', '1']\n",
      "['84', 'Zambia', 'ZAM', '0', '0', '1', '1']\n"
     ]
    }
   ],
   "source": [
    "import csv\n",
    "with open ('C://Users//cabdu//Downloads//archive (1)//olympics2024.csv', mode ='r') as file:\n",
    "    csvfile = csv.reader(file)\n",
    "    for lines in csvfile:\n",
    "        print(lines) "
   ]
  },
  {
   "cell_type": "markdown",
   "metadata": {},
   "source": [
    "installing pasckage to handing data storage and retrievals "
   ]
  },
  {
   "cell_type": "code",
   "execution_count": 27,
   "metadata": {},
   "outputs": [
    {
     "name": "stdout",
     "output_type": "stream",
     "text": [
      "Defaulting to user installation because normal site-packages is not writeable\n",
      "Requirement already satisfied: fsspec in c:\\users\\cabdu\\appdata\\roaming\\python\\python311\\site-packages (2024.9.0)\n",
      "Note: you may need to restart the kernel to use updated packages.\n"
     ]
    },
    {
     "name": "stderr",
     "output_type": "stream",
     "text": [
      "\n",
      "[notice] A new release of pip is available: 23.2.1 -> 24.2\n",
      "[notice] To update, run: python.exe -m pip install --upgrade pip\n"
     ]
    }
   ],
   "source": [
    "pip install fsspec\n"
   ]
  },
  {
   "cell_type": "markdown",
   "metadata": {},
   "source": [
    "importnig the data as a table "
   ]
  },
  {
   "cell_type": "code",
   "execution_count": 28,
   "metadata": {},
   "outputs": [
    {
     "name": "stdout",
     "output_type": "stream",
     "text": [
      "    Rank        Country Country Code  Gold  Silver  Bronze  Total\n",
      "0      1  United States           US    40      44      42    126\n",
      "1      2          China          CHN    40      27      24     91\n",
      "2      3          Japan          JPN    20      12      13     45\n",
      "3      4      Australia          AUS    18      19      16     53\n",
      "4      5         France          FRA    16      26      22     64\n",
      "..   ...            ...          ...   ...     ...     ...    ...\n",
      "86    84           Peru          PER     0       0       1      1\n",
      "87    84          Qatar          QAT     0       0       1      1\n",
      "88    84      Singapore          SIN     0       0       1      1\n",
      "89    84       Slovakia          SVK     0       0       1      1\n",
      "90    84         Zambia          ZAM     0       0       1      1\n",
      "\n",
      "[91 rows x 7 columns]\n"
     ]
    }
   ],
   "source": [
    "import pandas as pd \n",
    "\n",
    "# read CSV file into pandas DataFrame \n",
    "df = pd.read_csv('C://Users//cabdu//Downloads//archive (1)//olympics2024.csv')\n",
    "\n",
    "#dispaly the dataframe (table)\n",
    "print(df)"
   ]
  },
  {
   "cell_type": "markdown",
   "metadata": {},
   "source": [
    "Exploratory Data Analysis (EDA)"
   ]
  },
  {
   "cell_type": "code",
   "execution_count": 29,
   "metadata": {},
   "outputs": [
    {
     "name": "stdout",
     "output_type": "stream",
     "text": [
      "Missing values in each column:\n",
      "Rank            0\n",
      "Country         0\n",
      "Country Code    0\n",
      "Gold            0\n",
      "Silver          0\n",
      "Bronze          0\n",
      "Total           0\n",
      "dtype: int64\n",
      "The dataset contains 91 rows and 7 columns.\n"
     ]
    }
   ],
   "source": [
    "\n",
    "print(\"Missing values in each column:\")\n",
    "print(df.isnull().sum())\n",
    "\n",
    "#describing the dataset\n",
    "df.describe()\n",
    "\n",
    "#getting the shape of the data\n",
    "print(f\"The dataset contains {df.shape[0]} rows and {df.shape[1]} columns.\")\n"
   ]
  },
  {
   "cell_type": "markdown",
   "metadata": {},
   "source": [
    "creating a chart "
   ]
  },
  {
   "cell_type": "markdown",
   "metadata": {},
   "source": [
    "impoprting libraies "
   ]
  },
  {
   "cell_type": "code",
   "execution_count": 31,
   "metadata": {},
   "outputs": [
    {
     "name": "stdout",
     "output_type": "stream",
     "text": [
      "Defaulting to user installation because normal site-packages is not writeableNote: you may need to restart the kernel to use updated packages.\n",
      "\n",
      "Requirement already satisfied: matplotlib in c:\\users\\cabdu\\appdata\\roaming\\python\\python311\\site-packages (3.9.2)\n",
      "Requirement already satisfied: contourpy>=1.0.1 in c:\\users\\cabdu\\appdata\\roaming\\python\\python311\\site-packages (from matplotlib) (1.3.0)\n",
      "Requirement already satisfied: cycler>=0.10 in c:\\users\\cabdu\\appdata\\roaming\\python\\python311\\site-packages (from matplotlib) (0.12.1)\n",
      "Requirement already satisfied: fonttools>=4.22.0 in c:\\users\\cabdu\\appdata\\roaming\\python\\python311\\site-packages (from matplotlib) (4.53.1)\n",
      "Requirement already satisfied: kiwisolver>=1.3.1 in c:\\users\\cabdu\\appdata\\roaming\\python\\python311\\site-packages (from matplotlib) (1.4.7)\n",
      "Requirement already satisfied: numpy>=1.23 in c:\\users\\cabdu\\appdata\\roaming\\python\\python311\\site-packages (from matplotlib) (1.25.2)\n",
      "Requirement already satisfied: packaging>=20.0 in c:\\users\\cabdu\\appdata\\roaming\\python\\python311\\site-packages (from matplotlib) (24.1)\n",
      "Requirement already satisfied: pillow>=8 in c:\\users\\cabdu\\appdata\\roaming\\python\\python311\\site-packages (from matplotlib) (10.4.0)\n",
      "Requirement already satisfied: pyparsing>=2.3.1 in c:\\users\\cabdu\\appdata\\roaming\\python\\python311\\site-packages (from matplotlib) (3.1.4)\n",
      "Requirement already satisfied: python-dateutil>=2.7 in c:\\program files\\python311\\lib\\site-packages (from matplotlib) (2.8.2)\n",
      "Requirement already satisfied: six>=1.5 in c:\\program files\\python311\\lib\\site-packages (from python-dateutil>=2.7->matplotlib) (1.16.0)\n"
     ]
    },
    {
     "name": "stderr",
     "output_type": "stream",
     "text": [
      "\n",
      "[notice] A new release of pip is available: 23.2.1 -> 24.2\n",
      "[notice] To update, run: python.exe -m pip install --upgrade pip\n"
     ]
    }
   ],
   "source": [
    "pip install matplotlib "
   ]
  },
  {
   "cell_type": "markdown",
   "metadata": {},
   "source": [
    "importing libraies "
   ]
  },
  {
   "cell_type": "code",
   "execution_count": 32,
   "metadata": {},
   "outputs": [],
   "source": [
    "import matplotlib.pyplot as plt\n",
    "import pandas as pd\n"
   ]
  },
  {
   "cell_type": "markdown",
   "metadata": {},
   "source": [
    "calculate the total modals "
   ]
  },
  {
   "cell_type": "code",
   "execution_count": 33,
   "metadata": {},
   "outputs": [],
   "source": [
    "medal_totals = df[['Gold', 'Silver', 'Bronze']].sum()"
   ]
  },
  {
   "cell_type": "markdown",
   "metadata": {},
   "source": [
    "creating pie chart "
   ]
  },
  {
   "cell_type": "code",
   "execution_count": 34,
   "metadata": {},
   "outputs": [
    {
     "data": {
      "image/png": "[encoded data removed]",
      "text/plain": [
       "<Figure size 700x700 with 1 Axes>"
      ]
     },
     "metadata": {},
     "output_type": "display_data"
    }
   ],
   "source": [
    "plt.figure(figsize=(7, 7))\n",
    "plt.pie(medal_totals, labels=medal_totals.index, autopct='%1.1f%%', startangle=90, colors=['gold', 'silver', 'peru'])\n",
    "plt.title('Overall Distribution of Medals')\n",
    "plt.show()"
   ]
  }
 ],
 "metadata": {
  "kernelspec": {
   "display_name": "Python 3",
   "language": "python",
   "name": "python3"
  },
  "language_info": {
   "codemirror_mode": {
    "name": "ipython",
    "version": 3
   },
   "file_extension": ".py",
   "mimetype": "text/x-python",
   "name": "python",
   "nbconvert_exporter": "python",
   "pygments_lexer": "ipython3",
   "version": "3.11.4"
  }
 },
 "nbformat": 4,
 "nbformat_minor": 2
}
